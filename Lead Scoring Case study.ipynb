{
 "cells": [
  {
   "cell_type": "markdown",
   "id": "107de5bf",
   "metadata": {},
   "source": [
    "# Problem Statement :\n",
    "X Education sells online courses to industry professionals.The company markets its courses on several websites and search engines like Google. Once these people land on the website, they might browse the courses or fill up a form for the course or watch some videos.When these people fill up a form providing their email address or phone number, they are classified to be a lead. Moreover, the company also gets leads through past referrals.\n",
    "\n",
    "Once these leads are acquired, employees from the sales team start making calls, writing emails, etc. Through this process, some of the leads get converted while most do not.The typical lead conversion rate at X education is around 30%.\n",
    "\n",
    "Business Goal :\n",
    "X Education needs help in selecting the most promising leads, i.e. the leads that are most likely to convert into paying customers.\n",
    "\n",
    "The company needs a model wherein you a lead score is assigned to each of the leads such that the customers with higher lead score have a higher conversion chance and the customers with lower lead score have a lower conversion chance.\n",
    "\n",
    "The CEO, in particular, has given a ballpark of the target lead conversion rate to be around 80%"
   ]
  },
  {
   "cell_type": "markdown",
   "id": "63411ef5",
   "metadata": {},
   "source": [
    "# Step 1: Reading the Data-Data Sanity\n"
   ]
  },
  {
   "cell_type": "code",
   "execution_count": 1,
   "id": "041e3b64",
   "metadata": {},
   "outputs": [],
   "source": [
    "import warnings\n",
    "warnings.filterwarnings('ignore')\n",
    "\n",
    "# Importing the required packages\n",
    "\n",
    "import numpy as np\n",
    "import pandas as pd\n",
    "import matplotlib.pyplot as plt\n",
    "import seaborn as sns"
   ]
  },
  {
   "cell_type": "code",
   "execution_count": 2,
   "id": "91141c86",
   "metadata": {},
   "outputs": [
    {
     "data": {
      "text/html": [
       "<div>\n",
       "<style scoped>\n",
       "    .dataframe tbody tr th:only-of-type {\n",
       "        vertical-align: middle;\n",
       "    }\n",
       "\n",
       "    .dataframe tbody tr th {\n",
       "        vertical-align: top;\n",
       "    }\n",
       "\n",
       "    .dataframe thead th {\n",
       "        text-align: right;\n",
       "    }\n",
       "</style>\n",
       "<table border=\"1\" class=\"dataframe\">\n",
       "  <thead>\n",
       "    <tr style=\"text-align: right;\">\n",
       "      <th></th>\n",
       "      <th>Prospect ID</th>\n",
       "      <th>Lead Number</th>\n",
       "      <th>Lead Origin</th>\n",
       "      <th>Lead Source</th>\n",
       "      <th>Do Not Email</th>\n",
       "      <th>Do Not Call</th>\n",
       "      <th>Converted</th>\n",
       "      <th>TotalVisits</th>\n",
       "      <th>Total Time Spent on Website</th>\n",
       "      <th>Page Views Per Visit</th>\n",
       "      <th>...</th>\n",
       "      <th>Get updates on DM Content</th>\n",
       "      <th>Lead Profile</th>\n",
       "      <th>City</th>\n",
       "      <th>Asymmetrique Activity Index</th>\n",
       "      <th>Asymmetrique Profile Index</th>\n",
       "      <th>Asymmetrique Activity Score</th>\n",
       "      <th>Asymmetrique Profile Score</th>\n",
       "      <th>I agree to pay the amount through cheque</th>\n",
       "      <th>A free copy of Mastering The Interview</th>\n",
       "      <th>Last Notable Activity</th>\n",
       "    </tr>\n",
       "  </thead>\n",
       "  <tbody>\n",
       "    <tr>\n",
       "      <th>0</th>\n",
       "      <td>7927b2df-8bba-4d29-b9a2-b6e0beafe620</td>\n",
       "      <td>660737</td>\n",
       "      <td>API</td>\n",
       "      <td>Olark Chat</td>\n",
       "      <td>No</td>\n",
       "      <td>No</td>\n",
       "      <td>0</td>\n",
       "      <td>0.0</td>\n",
       "      <td>0</td>\n",
       "      <td>0.0</td>\n",
       "      <td>...</td>\n",
       "      <td>No</td>\n",
       "      <td>Select</td>\n",
       "      <td>Select</td>\n",
       "      <td>02.Medium</td>\n",
       "      <td>02.Medium</td>\n",
       "      <td>15.0</td>\n",
       "      <td>15.0</td>\n",
       "      <td>No</td>\n",
       "      <td>No</td>\n",
       "      <td>Modified</td>\n",
       "    </tr>\n",
       "    <tr>\n",
       "      <th>1</th>\n",
       "      <td>2a272436-5132-4136-86fa-dcc88c88f482</td>\n",
       "      <td>660728</td>\n",
       "      <td>API</td>\n",
       "      <td>Organic Search</td>\n",
       "      <td>No</td>\n",
       "      <td>No</td>\n",
       "      <td>0</td>\n",
       "      <td>5.0</td>\n",
       "      <td>674</td>\n",
       "      <td>2.5</td>\n",
       "      <td>...</td>\n",
       "      <td>No</td>\n",
       "      <td>Select</td>\n",
       "      <td>Select</td>\n",
       "      <td>02.Medium</td>\n",
       "      <td>02.Medium</td>\n",
       "      <td>15.0</td>\n",
       "      <td>15.0</td>\n",
       "      <td>No</td>\n",
       "      <td>No</td>\n",
       "      <td>Email Opened</td>\n",
       "    </tr>\n",
       "    <tr>\n",
       "      <th>2</th>\n",
       "      <td>8cc8c611-a219-4f35-ad23-fdfd2656bd8a</td>\n",
       "      <td>660727</td>\n",
       "      <td>Landing Page Submission</td>\n",
       "      <td>Direct Traffic</td>\n",
       "      <td>No</td>\n",
       "      <td>No</td>\n",
       "      <td>1</td>\n",
       "      <td>2.0</td>\n",
       "      <td>1532</td>\n",
       "      <td>2.0</td>\n",
       "      <td>...</td>\n",
       "      <td>No</td>\n",
       "      <td>Potential Lead</td>\n",
       "      <td>Mumbai</td>\n",
       "      <td>02.Medium</td>\n",
       "      <td>01.High</td>\n",
       "      <td>14.0</td>\n",
       "      <td>20.0</td>\n",
       "      <td>No</td>\n",
       "      <td>Yes</td>\n",
       "      <td>Email Opened</td>\n",
       "    </tr>\n",
       "    <tr>\n",
       "      <th>3</th>\n",
       "      <td>0cc2df48-7cf4-4e39-9de9-19797f9b38cc</td>\n",
       "      <td>660719</td>\n",
       "      <td>Landing Page Submission</td>\n",
       "      <td>Direct Traffic</td>\n",
       "      <td>No</td>\n",
       "      <td>No</td>\n",
       "      <td>0</td>\n",
       "      <td>1.0</td>\n",
       "      <td>305</td>\n",
       "      <td>1.0</td>\n",
       "      <td>...</td>\n",
       "      <td>No</td>\n",
       "      <td>Select</td>\n",
       "      <td>Mumbai</td>\n",
       "      <td>02.Medium</td>\n",
       "      <td>01.High</td>\n",
       "      <td>13.0</td>\n",
       "      <td>17.0</td>\n",
       "      <td>No</td>\n",
       "      <td>No</td>\n",
       "      <td>Modified</td>\n",
       "    </tr>\n",
       "    <tr>\n",
       "      <th>4</th>\n",
       "      <td>3256f628-e534-4826-9d63-4a8b88782852</td>\n",
       "      <td>660681</td>\n",
       "      <td>Landing Page Submission</td>\n",
       "      <td>Google</td>\n",
       "      <td>No</td>\n",
       "      <td>No</td>\n",
       "      <td>1</td>\n",
       "      <td>2.0</td>\n",
       "      <td>1428</td>\n",
       "      <td>1.0</td>\n",
       "      <td>...</td>\n",
       "      <td>No</td>\n",
       "      <td>Select</td>\n",
       "      <td>Mumbai</td>\n",
       "      <td>02.Medium</td>\n",
       "      <td>01.High</td>\n",
       "      <td>15.0</td>\n",
       "      <td>18.0</td>\n",
       "      <td>No</td>\n",
       "      <td>No</td>\n",
       "      <td>Modified</td>\n",
       "    </tr>\n",
       "  </tbody>\n",
       "</table>\n",
       "<p>5 rows × 37 columns</p>\n",
       "</div>"
      ],
      "text/plain": [
       "                            Prospect ID  Lead Number              Lead Origin  \\\n",
       "0  7927b2df-8bba-4d29-b9a2-b6e0beafe620       660737                      API   \n",
       "1  2a272436-5132-4136-86fa-dcc88c88f482       660728                      API   \n",
       "2  8cc8c611-a219-4f35-ad23-fdfd2656bd8a       660727  Landing Page Submission   \n",
       "3  0cc2df48-7cf4-4e39-9de9-19797f9b38cc       660719  Landing Page Submission   \n",
       "4  3256f628-e534-4826-9d63-4a8b88782852       660681  Landing Page Submission   \n",
       "\n",
       "      Lead Source Do Not Email Do Not Call  Converted  TotalVisits  \\\n",
       "0      Olark Chat           No          No          0          0.0   \n",
       "1  Organic Search           No          No          0          5.0   \n",
       "2  Direct Traffic           No          No          1          2.0   \n",
       "3  Direct Traffic           No          No          0          1.0   \n",
       "4          Google           No          No          1          2.0   \n",
       "\n",
       "   Total Time Spent on Website  Page Views Per Visit  ...  \\\n",
       "0                            0                   0.0  ...   \n",
       "1                          674                   2.5  ...   \n",
       "2                         1532                   2.0  ...   \n",
       "3                          305                   1.0  ...   \n",
       "4                         1428                   1.0  ...   \n",
       "\n",
       "  Get updates on DM Content    Lead Profile    City  \\\n",
       "0                        No          Select  Select   \n",
       "1                        No          Select  Select   \n",
       "2                        No  Potential Lead  Mumbai   \n",
       "3                        No          Select  Mumbai   \n",
       "4                        No          Select  Mumbai   \n",
       "\n",
       "  Asymmetrique Activity Index Asymmetrique Profile Index  \\\n",
       "0                   02.Medium                  02.Medium   \n",
       "1                   02.Medium                  02.Medium   \n",
       "2                   02.Medium                    01.High   \n",
       "3                   02.Medium                    01.High   \n",
       "4                   02.Medium                    01.High   \n",
       "\n",
       "  Asymmetrique Activity Score Asymmetrique Profile Score  \\\n",
       "0                        15.0                       15.0   \n",
       "1                        15.0                       15.0   \n",
       "2                        14.0                       20.0   \n",
       "3                        13.0                       17.0   \n",
       "4                        15.0                       18.0   \n",
       "\n",
       "  I agree to pay the amount through cheque  \\\n",
       "0                                       No   \n",
       "1                                       No   \n",
       "2                                       No   \n",
       "3                                       No   \n",
       "4                                       No   \n",
       "\n",
       "  A free copy of Mastering The Interview Last Notable Activity  \n",
       "0                                     No              Modified  \n",
       "1                                     No          Email Opened  \n",
       "2                                    Yes          Email Opened  \n",
       "3                                     No              Modified  \n",
       "4                                     No              Modified  \n",
       "\n",
       "[5 rows x 37 columns]"
      ]
     },
     "execution_count": 2,
     "metadata": {},
     "output_type": "execute_result"
    }
   ],
   "source": [
    "# Importing dataset\n",
    "\n",
    "leads = pd.read_csv('Leads.csv', encoding = 'latin')\n",
    "leads.head()"
   ]
  },
  {
   "cell_type": "code",
   "execution_count": 3,
   "id": "d1ebaeec",
   "metadata": {},
   "outputs": [
    {
     "name": "stdout",
     "output_type": "stream",
     "text": [
      "<class 'pandas.core.frame.DataFrame'>\n",
      "RangeIndex: 9240 entries, 0 to 9239\n",
      "Data columns (total 37 columns):\n",
      " #   Column                                         Non-Null Count  Dtype  \n",
      "---  ------                                         --------------  -----  \n",
      " 0   Prospect ID                                    9240 non-null   object \n",
      " 1   Lead Number                                    9240 non-null   int64  \n",
      " 2   Lead Origin                                    9240 non-null   object \n",
      " 3   Lead Source                                    9204 non-null   object \n",
      " 4   Do Not Email                                   9240 non-null   object \n",
      " 5   Do Not Call                                    9240 non-null   object \n",
      " 6   Converted                                      9240 non-null   int64  \n",
      " 7   TotalVisits                                    9103 non-null   float64\n",
      " 8   Total Time Spent on Website                    9240 non-null   int64  \n",
      " 9   Page Views Per Visit                           9103 non-null   float64\n",
      " 10  Last Activity                                  9137 non-null   object \n",
      " 11  Country                                        6779 non-null   object \n",
      " 12  Specialization                                 7802 non-null   object \n",
      " 13  How did you hear about X Education             7033 non-null   object \n",
      " 14  What is your current occupation                6550 non-null   object \n",
      " 15  What matters most to you in choosing a course  6531 non-null   object \n",
      " 16  Search                                         9240 non-null   object \n",
      " 17  Magazine                                       9240 non-null   object \n",
      " 18  Newspaper Article                              9240 non-null   object \n",
      " 19  X Education Forums                             9240 non-null   object \n",
      " 20  Newspaper                                      9240 non-null   object \n",
      " 21  Digital Advertisement                          9240 non-null   object \n",
      " 22  Through Recommendations                        9240 non-null   object \n",
      " 23  Receive More Updates About Our Courses         9240 non-null   object \n",
      " 24  Tags                                           5887 non-null   object \n",
      " 25  Lead Quality                                   4473 non-null   object \n",
      " 26  Update me on Supply Chain Content              9240 non-null   object \n",
      " 27  Get updates on DM Content                      9240 non-null   object \n",
      " 28  Lead Profile                                   6531 non-null   object \n",
      " 29  City                                           7820 non-null   object \n",
      " 30  Asymmetrique Activity Index                    5022 non-null   object \n",
      " 31  Asymmetrique Profile Index                     5022 non-null   object \n",
      " 32  Asymmetrique Activity Score                    5022 non-null   float64\n",
      " 33  Asymmetrique Profile Score                     5022 non-null   float64\n",
      " 34  I agree to pay the amount through cheque       9240 non-null   object \n",
      " 35  A free copy of Mastering The Interview         9240 non-null   object \n",
      " 36  Last Notable Activity                          9240 non-null   object \n",
      "dtypes: float64(4), int64(3), object(30)\n",
      "memory usage: 2.6+ MB\n",
      "None\n"
     ]
    }
   ],
   "source": [
    "# inspect lead dataframe\n",
    "\n",
    "print(leads.info())"
   ]
  },
  {
   "cell_type": "code",
   "execution_count": 4,
   "id": "bc61cda5",
   "metadata": {},
   "outputs": [
    {
     "name": "stdout",
     "output_type": "stream",
     "text": [
      "(9240, 37)\n"
     ]
    }
   ],
   "source": [
    "# inspect lead dataframe\n",
    "\n",
    "print(leads.shape)"
   ]
  },
  {
   "cell_type": "code",
   "execution_count": 5,
   "id": "b360895e",
   "metadata": {},
   "outputs": [
    {
     "name": "stdout",
     "output_type": "stream",
     "text": [
      "Prospect ID                                      False\n",
      "Lead Number                                      False\n",
      "Lead Origin                                      False\n",
      "Lead Source                                       True\n",
      "Do Not Email                                     False\n",
      "Do Not Call                                      False\n",
      "Converted                                        False\n",
      "TotalVisits                                       True\n",
      "Total Time Spent on Website                      False\n",
      "Page Views Per Visit                              True\n",
      "Last Activity                                     True\n",
      "Country                                           True\n",
      "Specialization                                    True\n",
      "How did you hear about X Education                True\n",
      "What is your current occupation                   True\n",
      "What matters most to you in choosing a course     True\n",
      "Search                                           False\n",
      "Magazine                                         False\n",
      "Newspaper Article                                False\n",
      "X Education Forums                               False\n",
      "Newspaper                                        False\n",
      "Digital Advertisement                            False\n",
      "Through Recommendations                          False\n",
      "Receive More Updates About Our Courses           False\n",
      "Tags                                              True\n",
      "Lead Quality                                      True\n",
      "Update me on Supply Chain Content                False\n",
      "Get updates on DM Content                        False\n",
      "Lead Profile                                      True\n",
      "City                                              True\n",
      "Asymmetrique Activity Index                       True\n",
      "Asymmetrique Profile Index                        True\n",
      "Asymmetrique Activity Score                       True\n",
      "Asymmetrique Profile Score                        True\n",
      "I agree to pay the amount through cheque         False\n",
      "A free copy of Mastering The Interview           False\n",
      "Last Notable Activity                            False\n",
      "dtype: bool\n"
     ]
    }
   ],
   "source": [
    "# Columns having null values\n",
    "\n",
    "print(leads.isnull().any())"
   ]
  },
  {
   "cell_type": "code",
   "execution_count": 6,
   "id": "6338ef5a",
   "metadata": {},
   "outputs": [
    {
     "data": {
      "text/html": [
       "<div>\n",
       "<style scoped>\n",
       "    .dataframe tbody tr th:only-of-type {\n",
       "        vertical-align: middle;\n",
       "    }\n",
       "\n",
       "    .dataframe tbody tr th {\n",
       "        vertical-align: top;\n",
       "    }\n",
       "\n",
       "    .dataframe thead th {\n",
       "        text-align: right;\n",
       "    }\n",
       "</style>\n",
       "<table border=\"1\" class=\"dataframe\">\n",
       "  <thead>\n",
       "    <tr style=\"text-align: right;\">\n",
       "      <th></th>\n",
       "      <th>Lead Number</th>\n",
       "      <th>Converted</th>\n",
       "      <th>TotalVisits</th>\n",
       "      <th>Total Time Spent on Website</th>\n",
       "      <th>Page Views Per Visit</th>\n",
       "      <th>Asymmetrique Activity Score</th>\n",
       "      <th>Asymmetrique Profile Score</th>\n",
       "    </tr>\n",
       "  </thead>\n",
       "  <tbody>\n",
       "    <tr>\n",
       "      <th>count</th>\n",
       "      <td>9240.000000</td>\n",
       "      <td>9240.000000</td>\n",
       "      <td>9103.000000</td>\n",
       "      <td>9240.000000</td>\n",
       "      <td>9103.000000</td>\n",
       "      <td>5022.000000</td>\n",
       "      <td>5022.000000</td>\n",
       "    </tr>\n",
       "    <tr>\n",
       "      <th>mean</th>\n",
       "      <td>617188.435606</td>\n",
       "      <td>0.385390</td>\n",
       "      <td>3.445238</td>\n",
       "      <td>487.698268</td>\n",
       "      <td>2.362820</td>\n",
       "      <td>14.306252</td>\n",
       "      <td>16.344883</td>\n",
       "    </tr>\n",
       "    <tr>\n",
       "      <th>std</th>\n",
       "      <td>23405.995698</td>\n",
       "      <td>0.486714</td>\n",
       "      <td>4.854853</td>\n",
       "      <td>548.021466</td>\n",
       "      <td>2.161418</td>\n",
       "      <td>1.386694</td>\n",
       "      <td>1.811395</td>\n",
       "    </tr>\n",
       "    <tr>\n",
       "      <th>min</th>\n",
       "      <td>579533.000000</td>\n",
       "      <td>0.000000</td>\n",
       "      <td>0.000000</td>\n",
       "      <td>0.000000</td>\n",
       "      <td>0.000000</td>\n",
       "      <td>7.000000</td>\n",
       "      <td>11.000000</td>\n",
       "    </tr>\n",
       "    <tr>\n",
       "      <th>25%</th>\n",
       "      <td>596484.500000</td>\n",
       "      <td>0.000000</td>\n",
       "      <td>1.000000</td>\n",
       "      <td>12.000000</td>\n",
       "      <td>1.000000</td>\n",
       "      <td>14.000000</td>\n",
       "      <td>15.000000</td>\n",
       "    </tr>\n",
       "    <tr>\n",
       "      <th>50%</th>\n",
       "      <td>615479.000000</td>\n",
       "      <td>0.000000</td>\n",
       "      <td>3.000000</td>\n",
       "      <td>248.000000</td>\n",
       "      <td>2.000000</td>\n",
       "      <td>14.000000</td>\n",
       "      <td>16.000000</td>\n",
       "    </tr>\n",
       "    <tr>\n",
       "      <th>75%</th>\n",
       "      <td>637387.250000</td>\n",
       "      <td>1.000000</td>\n",
       "      <td>5.000000</td>\n",
       "      <td>936.000000</td>\n",
       "      <td>3.000000</td>\n",
       "      <td>15.000000</td>\n",
       "      <td>18.000000</td>\n",
       "    </tr>\n",
       "    <tr>\n",
       "      <th>max</th>\n",
       "      <td>660737.000000</td>\n",
       "      <td>1.000000</td>\n",
       "      <td>251.000000</td>\n",
       "      <td>2272.000000</td>\n",
       "      <td>55.000000</td>\n",
       "      <td>18.000000</td>\n",
       "      <td>20.000000</td>\n",
       "    </tr>\n",
       "  </tbody>\n",
       "</table>\n",
       "</div>"
      ],
      "text/plain": [
       "         Lead Number    Converted  TotalVisits  Total Time Spent on Website  \\\n",
       "count    9240.000000  9240.000000  9103.000000                  9240.000000   \n",
       "mean   617188.435606     0.385390     3.445238                   487.698268   \n",
       "std     23405.995698     0.486714     4.854853                   548.021466   \n",
       "min    579533.000000     0.000000     0.000000                     0.000000   \n",
       "25%    596484.500000     0.000000     1.000000                    12.000000   \n",
       "50%    615479.000000     0.000000     3.000000                   248.000000   \n",
       "75%    637387.250000     1.000000     5.000000                   936.000000   \n",
       "max    660737.000000     1.000000   251.000000                  2272.000000   \n",
       "\n",
       "       Page Views Per Visit  Asymmetrique Activity Score  \\\n",
       "count           9103.000000                  5022.000000   \n",
       "mean               2.362820                    14.306252   \n",
       "std                2.161418                     1.386694   \n",
       "min                0.000000                     7.000000   \n",
       "25%                1.000000                    14.000000   \n",
       "50%                2.000000                    14.000000   \n",
       "75%                3.000000                    15.000000   \n",
       "max               55.000000                    18.000000   \n",
       "\n",
       "       Asymmetrique Profile Score  \n",
       "count                 5022.000000  \n",
       "mean                    16.344883  \n",
       "std                      1.811395  \n",
       "min                     11.000000  \n",
       "25%                     15.000000  \n",
       "50%                     16.000000  \n",
       "75%                     18.000000  \n",
       "max                     20.000000  "
      ]
     },
     "execution_count": 6,
     "metadata": {},
     "output_type": "execute_result"
    }
   ],
   "source": [
    "# inspect lead dataframe\n",
    "\n",
    "leads.describe()"
   ]
  },
  {
   "cell_type": "markdown",
   "id": "25da75dc",
   "metadata": {},
   "source": [
    "# Step 2: Data Cleaning/Preprocessing"
   ]
  },
  {
   "cell_type": "code",
   "execution_count": 7,
   "id": "f9d03348",
   "metadata": {},
   "outputs": [
    {
     "name": "stdout",
     "output_type": "stream",
     "text": [
      "Prospect ID                                       0.00\n",
      "Lead Number                                       0.00\n",
      "Lead Origin                                       0.00\n",
      "Lead Source                                       0.39\n",
      "Do Not Email                                      0.00\n",
      "Do Not Call                                       0.00\n",
      "Converted                                         0.00\n",
      "TotalVisits                                       1.48\n",
      "Total Time Spent on Website                       0.00\n",
      "Page Views Per Visit                              1.48\n",
      "Last Activity                                     1.11\n",
      "Country                                          26.63\n",
      "Specialization                                   15.56\n",
      "How did you hear about X Education               23.89\n",
      "What is your current occupation                  29.11\n",
      "What matters most to you in choosing a course    29.32\n",
      "Search                                            0.00\n",
      "Magazine                                          0.00\n",
      "Newspaper Article                                 0.00\n",
      "X Education Forums                                0.00\n",
      "Newspaper                                         0.00\n",
      "Digital Advertisement                             0.00\n",
      "Through Recommendations                           0.00\n",
      "Receive More Updates About Our Courses            0.00\n",
      "Tags                                             36.29\n",
      "Lead Quality                                     51.59\n",
      "Update me on Supply Chain Content                 0.00\n",
      "Get updates on DM Content                         0.00\n",
      "Lead Profile                                     29.32\n",
      "City                                             15.37\n",
      "Asymmetrique Activity Index                      45.65\n",
      "Asymmetrique Profile Index                       45.65\n",
      "Asymmetrique Activity Score                      45.65\n",
      "Asymmetrique Profile Score                       45.65\n",
      "I agree to pay the amount through cheque          0.00\n",
      "A free copy of Mastering The Interview            0.00\n",
      "Last Notable Activity                             0.00\n",
      "dtype: float64\n"
     ]
    }
   ],
   "source": [
    "# Checking for percentage of null values in each column\n",
    "\n",
    "percentage_missing = round(100*(leads.isnull().sum()/len(leads.index)), 2)\n",
    "print(percentage_missing)"
   ]
  },
  {
   "cell_type": "code",
   "execution_count": 8,
   "id": "bf55fcd5",
   "metadata": {},
   "outputs": [],
   "source": [
    "# Following columns have a value called select. Convert those values as nan since the customer has not selected any options for \n",
    "# these columns while entering the data.\n",
    "\n",
    "# a) Specialization\n",
    "# b) How did you hear about X Education\n",
    "# c) Lead Profile\n",
    "# d) City\n",
    "\n",
    "# Converting 'Select' values to NaN.\n",
    "\n",
    "leads['Specialization'] = leads['Specialization'].replace('Select', np.nan)\n",
    "leads['How did you hear about X Education'] = leads['How did you hear about X Education'].replace('Select', np.nan)\n",
    "leads['Lead Profile'] = leads['Lead Profile'].replace('Select', np.nan)\n",
    "leads['City'] = leads['City'].replace('Select', np.nan)"
   ]
  },
  {
   "cell_type": "code",
   "execution_count": 9,
   "id": "0dd4d467",
   "metadata": {},
   "outputs": [
    {
     "name": "stdout",
     "output_type": "stream",
     "text": [
      "Prospect ID                                       0.00\n",
      "Lead Number                                       0.00\n",
      "Lead Origin                                       0.00\n",
      "Lead Source                                       0.39\n",
      "Do Not Email                                      0.00\n",
      "Do Not Call                                       0.00\n",
      "Converted                                         0.00\n",
      "TotalVisits                                       1.48\n",
      "Total Time Spent on Website                       0.00\n",
      "Page Views Per Visit                              1.48\n",
      "Last Activity                                     1.11\n",
      "Country                                          26.63\n",
      "Specialization                                   36.58\n",
      "How did you hear about X Education               78.46\n",
      "What is your current occupation                  29.11\n",
      "What matters most to you in choosing a course    29.32\n",
      "Search                                            0.00\n",
      "Magazine                                          0.00\n",
      "Newspaper Article                                 0.00\n",
      "X Education Forums                                0.00\n",
      "Newspaper                                         0.00\n",
      "Digital Advertisement                             0.00\n",
      "Through Recommendations                           0.00\n",
      "Receive More Updates About Our Courses            0.00\n",
      "Tags                                             36.29\n",
      "Lead Quality                                     51.59\n",
      "Update me on Supply Chain Content                 0.00\n",
      "Get updates on DM Content                         0.00\n",
      "Lead Profile                                     74.19\n",
      "City                                             39.71\n",
      "Asymmetrique Activity Index                      45.65\n",
      "Asymmetrique Profile Index                       45.65\n",
      "Asymmetrique Activity Score                      45.65\n",
      "Asymmetrique Profile Score                       45.65\n",
      "I agree to pay the amount through cheque          0.00\n",
      "A free copy of Mastering The Interview            0.00\n",
      "Last Notable Activity                             0.00\n",
      "dtype: float64\n"
     ]
    }
   ],
   "source": [
    "# checking for percentage of null values in each column\n",
    "\n",
    "percentage_missing = round(100*(leads.isnull().sum()/len(leads.index)), 2)\n",
    "print(percentage_missing)"
   ]
  },
  {
   "cell_type": "markdown",
   "id": "e3a82ecb",
   "metadata": {},
   "source": [
    "There are some columns that have more than 30% null values."
   ]
  },
  {
   "cell_type": "code",
   "execution_count": 10,
   "id": "cf79396c",
   "metadata": {},
   "outputs": [],
   "source": [
    "# Let us drop the following columns that have more than 30% null values\n",
    "\n",
    "# a) Specialization\n",
    "# b) How did you hear about X Education\n",
    "# c) Tags\n",
    "# d) Lead Quality\n",
    "# e) Lead Profile\n",
    "# f) City\n",
    "# g) Asymmetrique Activity Index\n",
    "# h) Asymmetrique Profile Index\n",
    "# i) Asymmetrique Activity Score\n",
    "# j) Asymmetrique Profile Score\n",
    "\n",
    "leads = leads.drop(['Specialization', 'How did you hear about X Education', 'Tags', 'Lead Quality',\n",
    "                          'Lead Profile','City', 'Asymmetrique Activity Index', 'Asymmetrique Profile Index',\n",
    "                          'Asymmetrique Activity Score', 'Asymmetrique Profile Score'], axis=1)"
   ]
  },
  {
   "cell_type": "code",
   "execution_count": 11,
   "id": "c8fd5aab",
   "metadata": {},
   "outputs": [
    {
     "name": "stdout",
     "output_type": "stream",
     "text": [
      "Prospect ID                                       0.00\n",
      "Lead Number                                       0.00\n",
      "Lead Origin                                       0.00\n",
      "Lead Source                                       0.39\n",
      "Do Not Email                                      0.00\n",
      "Do Not Call                                       0.00\n",
      "Converted                                         0.00\n",
      "TotalVisits                                       1.48\n",
      "Total Time Spent on Website                       0.00\n",
      "Page Views Per Visit                              1.48\n",
      "Last Activity                                     1.11\n",
      "Country                                          26.63\n",
      "What is your current occupation                  29.11\n",
      "What matters most to you in choosing a course    29.32\n",
      "Search                                            0.00\n",
      "Magazine                                          0.00\n",
      "Newspaper Article                                 0.00\n",
      "X Education Forums                                0.00\n",
      "Newspaper                                         0.00\n",
      "Digital Advertisement                             0.00\n",
      "Through Recommendations                           0.00\n",
      "Receive More Updates About Our Courses            0.00\n",
      "Update me on Supply Chain Content                 0.00\n",
      "Get updates on DM Content                         0.00\n",
      "I agree to pay the amount through cheque          0.00\n",
      "A free copy of Mastering The Interview            0.00\n",
      "Last Notable Activity                             0.00\n",
      "dtype: float64\n"
     ]
    }
   ],
   "source": [
    "# checking for percentage of null values in each column after dropping columns having more than 30% null values\n",
    "\n",
    "percentage_missing = round(100*(leads.isnull().sum()/len(leads.index)), 2)\n",
    "print(percentage_missing)"
   ]
  },
  {
   "cell_type": "markdown",
   "id": "568cdd7c",
   "metadata": {},
   "source": [
    "Following columns have null values : - Country - Lead Source - Total Visits - Page Views Per Visit - Last Activity\n",
    "- What is your current occupation - What matters most to you in choosing a course\n",
    "\n",
    "Let us see and decide whather we need to impute values in the above column or drop the columns."
   ]
  },
  {
   "cell_type": "code",
   "execution_count": 12,
   "id": "57197b12",
   "metadata": {},
   "outputs": [
    {
     "data": {
      "text/plain": [
       "India                   6492\n",
       "United States             69\n",
       "United Arab Emirates      53\n",
       "Singapore                 24\n",
       "Saudi Arabia              21\n",
       "United Kingdom            15\n",
       "Australia                 13\n",
       "Qatar                     10\n",
       "Hong Kong                  7\n",
       "Bahrain                    7\n",
       "Oman                       6\n",
       "France                     6\n",
       "unknown                    5\n",
       "South Africa               4\n",
       "Nigeria                    4\n",
       "Germany                    4\n",
       "Kuwait                     4\n",
       "Canada                     4\n",
       "Sweden                     3\n",
       "China                      2\n",
       "Asia/Pacific Region        2\n",
       "Uganda                     2\n",
       "Bangladesh                 2\n",
       "Italy                      2\n",
       "Belgium                    2\n",
       "Netherlands                2\n",
       "Ghana                      2\n",
       "Philippines                2\n",
       "Russia                     1\n",
       "Switzerland                1\n",
       "Vietnam                    1\n",
       "Denmark                    1\n",
       "Tanzania                   1\n",
       "Liberia                    1\n",
       "Malaysia                   1\n",
       "Kenya                      1\n",
       "Sri Lanka                  1\n",
       "Indonesia                  1\n",
       "Name: Country, dtype: int64"
      ]
     },
     "execution_count": 12,
     "metadata": {},
     "output_type": "execute_result"
    }
   ],
   "source": [
    "# Checking the value counts for each values in the country column\n",
    "\n",
    "leads.Country.value_counts()"
   ]
  },
  {
   "cell_type": "code",
   "execution_count": 13,
   "id": "05be20aa",
   "metadata": {},
   "outputs": [
    {
     "name": "stdout",
     "output_type": "stream",
     "text": [
      "70.26\n"
     ]
    }
   ],
   "source": [
    "# checking the percentage of India as value in the country column\n",
    "\n",
    "country_percentage = round(100*len(leads[leads['Country'] == 'India'])/len(leads['Country']),2)\n",
    "print(country_percentage)"
   ]
  },
  {
   "cell_type": "code",
   "execution_count": 14,
   "id": "4122a4de",
   "metadata": {},
   "outputs": [],
   "source": [
    "# Since \"India\" occurs around 70% of times in the Country column, and country column also has around 27% as missing values, \n",
    "# we shall go ahead and drop the column\n",
    "\n",
    "leads = leads.drop(['Country'], axis=1)"
   ]
  },
  {
   "cell_type": "code",
   "execution_count": 15,
   "id": "695ab06f",
   "metadata": {},
   "outputs": [
    {
     "data": {
      "text/plain": [
       "Google               2868\n",
       "Direct Traffic       2543\n",
       "Olark Chat           1755\n",
       "Organic Search       1154\n",
       "Reference             534\n",
       "Welingak Website      142\n",
       "Referral Sites        125\n",
       "Facebook               55\n",
       "bing                    6\n",
       "google                  5\n",
       "Click2call              4\n",
       "Press_Release           2\n",
       "Social Media            2\n",
       "Live Chat               2\n",
       "youtubechannel          1\n",
       "testone                 1\n",
       "Pay per Click Ads       1\n",
       "welearnblog_Home        1\n",
       "WeLearn                 1\n",
       "blog                    1\n",
       "NC_EDM                  1\n",
       "Name: Lead Source, dtype: int64"
      ]
     },
     "execution_count": 15,
     "metadata": {},
     "output_type": "execute_result"
    }
   ],
   "source": [
    "# Checking the value counts for the column Lead Source\n",
    "\n",
    "leads['Lead Source'].value_counts()"
   ]
  },
  {
   "cell_type": "code",
   "execution_count": 16,
   "id": "2f0800f5",
   "metadata": {},
   "outputs": [],
   "source": [
    "# From the above it can be noticed that Google appears twice with different cases. Hence we shall convert all rows with value \n",
    "# \"Google\" to the same case.\n",
    "# Also since \"Google\" has the major chunk of data, we can impute the null values with Google\n",
    "\n",
    "leads['Lead Source'] = leads['Lead Source'].replace('google', 'Google')\n",
    "leads['Lead Source'] = leads['Lead Source'].replace(np.nan, 'Google')"
   ]
  },
  {
   "cell_type": "code",
   "execution_count": 17,
   "id": "7a0b5190",
   "metadata": {},
   "outputs": [
    {
     "data": {
      "text/plain": [
       "0.0      2189\n",
       "2.0      1680\n",
       "3.0      1306\n",
       "4.0      1120\n",
       "5.0       783\n",
       "6.0       466\n",
       "1.0       395\n",
       "7.0       309\n",
       "8.0       224\n",
       "9.0       164\n",
       "10.0      114\n",
       "11.0       86\n",
       "13.0       48\n",
       "12.0       45\n",
       "14.0       36\n",
       "16.0       21\n",
       "15.0       18\n",
       "17.0       16\n",
       "18.0       15\n",
       "20.0       12\n",
       "19.0        9\n",
       "21.0        6\n",
       "23.0        6\n",
       "24.0        5\n",
       "25.0        5\n",
       "27.0        5\n",
       "22.0        3\n",
       "29.0        2\n",
       "28.0        2\n",
       "26.0        2\n",
       "141.0       1\n",
       "55.0        1\n",
       "30.0        1\n",
       "43.0        1\n",
       "74.0        1\n",
       "41.0        1\n",
       "54.0        1\n",
       "115.0       1\n",
       "251.0       1\n",
       "32.0        1\n",
       "42.0        1\n",
       "Name: TotalVisits, dtype: int64"
      ]
     },
     "execution_count": 17,
     "metadata": {},
     "output_type": "execute_result"
    }
   ],
   "source": [
    "# Checking the value counts for the column Total Visits\n",
    "\n",
    "leads['TotalVisits'].value_counts()"
   ]
  },
  {
   "cell_type": "code",
   "execution_count": 18,
   "id": "73024c07",
   "metadata": {},
   "outputs": [
    {
     "data": {
      "text/plain": [
       "3.0"
      ]
     },
     "execution_count": 18,
     "metadata": {},
     "output_type": "execute_result"
    }
   ],
   "source": [
    "# Checking the median of column \n",
    "\n",
    "leads['TotalVisits'].median()"
   ]
  },
  {
   "cell_type": "code",
   "execution_count": 19,
   "id": "3330b14d",
   "metadata": {},
   "outputs": [],
   "source": [
    "# Imputing the null values in TotalVisits by the median value which is 3.0\n",
    "\n",
    "leads['TotalVisits'] = leads['TotalVisits'].replace(np.nan, leads['TotalVisits'].median())"
   ]
  },
  {
   "cell_type": "code",
   "execution_count": 20,
   "id": "9d391aa0",
   "metadata": {},
   "outputs": [
    {
     "data": {
      "text/plain": [
       "0.00    2189\n",
       "2.00    1795\n",
       "3.00    1196\n",
       "4.00     896\n",
       "1.00     651\n",
       "        ... \n",
       "3.43       1\n",
       "2.56       1\n",
       "6.33       1\n",
       "1.64       1\n",
       "2.08       1\n",
       "Name: Page Views Per Visit, Length: 114, dtype: int64"
      ]
     },
     "execution_count": 20,
     "metadata": {},
     "output_type": "execute_result"
    }
   ],
   "source": [
    "# Checking the value counts for Page Views Per Visit\n",
    "\n",
    "leads['Page Views Per Visit'].value_counts()"
   ]
  },
  {
   "cell_type": "code",
   "execution_count": 21,
   "id": "818f7acd",
   "metadata": {},
   "outputs": [
    {
     "data": {
      "text/plain": [
       "2.0"
      ]
     },
     "execution_count": 21,
     "metadata": {},
     "output_type": "execute_result"
    }
   ],
   "source": [
    "# Checking the median of the column\n",
    "\n",
    "leads['Page Views Per Visit'].median()"
   ]
  },
  {
   "cell_type": "code",
   "execution_count": 22,
   "id": "eb847079",
   "metadata": {},
   "outputs": [],
   "source": [
    "# Imputing the null values in 'Page Views Per Visit' by the median value which is 2.0\n",
    "\n",
    "leads['Page Views Per Visit'] = leads['Page Views Per Visit'].replace(np.nan, leads['Page Views Per Visit'].median())"
   ]
  },
  {
   "cell_type": "code",
   "execution_count": 23,
   "id": "668d7b13",
   "metadata": {},
   "outputs": [
    {
     "data": {
      "text/plain": [
       "Email Opened                    3437\n",
       "SMS Sent                        2745\n",
       "Olark Chat Conversation          973\n",
       "Page Visited on Website          640\n",
       "Converted to Lead                428\n",
       "Email Bounced                    326\n",
       "Email Link Clicked               267\n",
       "Form Submitted on Website        116\n",
       "Unreachable                       93\n",
       "Unsubscribed                      61\n",
       "Had a Phone Conversation          30\n",
       "Approached upfront                 9\n",
       "View in browser link Clicked       6\n",
       "Email Received                     2\n",
       "Email Marked Spam                  2\n",
       "Visited Booth in Tradeshow         1\n",
       "Resubscribed to emails             1\n",
       "Name: Last Activity, dtype: int64"
      ]
     },
     "execution_count": 23,
     "metadata": {},
     "output_type": "execute_result"
    }
   ],
   "source": [
    "# Checking the value counts for the column Last Activity\n",
    "\n",
    "leads['Last Activity'].value_counts()"
   ]
  },
  {
   "cell_type": "code",
   "execution_count": 24,
   "id": "73d0b063",
   "metadata": {},
   "outputs": [],
   "source": [
    "# Since we do not have any information of what the last activity of the customer would have been, we can add a new category \n",
    "# called 'Not Sure' for the null values\n",
    "\n",
    "leads['Last Activity'] = leads['Last Activity'].replace(np.nan, 'Not Sure')"
   ]
  },
  {
   "cell_type": "code",
   "execution_count": 25,
   "id": "2eb6ff8b",
   "metadata": {},
   "outputs": [
    {
     "data": {
      "text/plain": [
       "Unemployed              5600\n",
       "Working Professional     706\n",
       "Student                  210\n",
       "Other                     16\n",
       "Housewife                 10\n",
       "Businessman                8\n",
       "Name: What is your current occupation, dtype: int64"
      ]
     },
     "execution_count": 25,
     "metadata": {},
     "output_type": "execute_result"
    }
   ],
   "source": [
    "# Checking the value counts for the column \"What is your current Occupation\"\n",
    "\n",
    "leads['What is your current occupation'].value_counts()"
   ]
  },
  {
   "cell_type": "code",
   "execution_count": 26,
   "id": "9a8cb227",
   "metadata": {},
   "outputs": [],
   "source": [
    "# Since no information has been provided Current Occupation, we can add a new category called No Information and set that as value for the null columns\n",
    "\n",
    "leads['What is your current occupation'] = leads['What is your current occupation'].replace(np.nan, 'No Information')"
   ]
  },
  {
   "cell_type": "code",
   "execution_count": 27,
   "id": "3687d861",
   "metadata": {},
   "outputs": [
    {
     "data": {
      "text/plain": [
       "Better Career Prospects      6528\n",
       "Flexibility & Convenience       2\n",
       "Other                           1\n",
       "Name: What matters most to you in choosing a course, dtype: int64"
      ]
     },
     "execution_count": 27,
     "metadata": {},
     "output_type": "execute_result"
    }
   ],
   "source": [
    "# Checking the value counts for the column What matters most to you in choosing a course \n",
    "\n",
    "leads['What matters most to you in choosing a course'].value_counts()"
   ]
  },
  {
   "cell_type": "code",
   "execution_count": 28,
   "id": "c8118685",
   "metadata": {},
   "outputs": [
    {
     "name": "stdout",
     "output_type": "stream",
     "text": [
      "70.65\n"
     ]
    }
   ],
   "source": [
    "matters_most_percentage = round(100*len(leads[leads['What matters most to you in choosing a course'] \n",
    "                            == 'Better Career Prospects'])/len(leads['What matters most to you in choosing a course']),2)\n",
    "print(matters_most_percentage)"
   ]
  },
  {
   "cell_type": "code",
   "execution_count": 29,
   "id": "1b8ff781",
   "metadata": {},
   "outputs": [],
   "source": [
    "# Since Better Career Prospects occurs around 70% of times in the What matters most to you in choosing a course column, and\n",
    "# since the column also has around 29% as missing values, we shall go ahead and drop the column\n",
    "\n",
    "leads = leads.drop(['What matters most to you in choosing a course'], axis=1)"
   ]
  },
  {
   "cell_type": "code",
   "execution_count": 30,
   "id": "4269495b",
   "metadata": {},
   "outputs": [
    {
     "name": "stdout",
     "output_type": "stream",
     "text": [
      "Prospect ID                                 0.0\n",
      "Lead Number                                 0.0\n",
      "Lead Origin                                 0.0\n",
      "Lead Source                                 0.0\n",
      "Do Not Email                                0.0\n",
      "Do Not Call                                 0.0\n",
      "Converted                                   0.0\n",
      "TotalVisits                                 0.0\n",
      "Total Time Spent on Website                 0.0\n",
      "Page Views Per Visit                        0.0\n",
      "Last Activity                               0.0\n",
      "What is your current occupation             0.0\n",
      "Search                                      0.0\n",
      "Magazine                                    0.0\n",
      "Newspaper Article                           0.0\n",
      "X Education Forums                          0.0\n",
      "Newspaper                                   0.0\n",
      "Digital Advertisement                       0.0\n",
      "Through Recommendations                     0.0\n",
      "Receive More Updates About Our Courses      0.0\n",
      "Update me on Supply Chain Content           0.0\n",
      "Get updates on DM Content                   0.0\n",
      "I agree to pay the amount through cheque    0.0\n",
      "A free copy of Mastering The Interview      0.0\n",
      "Last Notable Activity                       0.0\n",
      "dtype: float64\n"
     ]
    }
   ],
   "source": [
    "# check for percentage of null values in each column\n",
    "\n",
    "percentage_missing = round(100*(leads.isnull().sum()/len(leads.index)), 2)\n",
    "print(percentage_missing)"
   ]
  },
  {
   "cell_type": "markdown",
   "id": "21b80718",
   "metadata": {},
   "source": [
    "All the null values in the columns now have either been imputed or we have dropped the columns which have more than 70% data concentrated towards one value"
   ]
  },
  {
   "cell_type": "code",
   "execution_count": 31,
   "id": "2e1980ea",
   "metadata": {},
   "outputs": [],
   "source": [
    "# Since the following columns have only one value \"No\" in all the rows, we can eliminate the columns :\n",
    "\n",
    "# a) Magazine\n",
    "# b) Receive More Updates About Our Courses\n",
    "# c) Update me on Supply Chain Content\n",
    "# d) Get updates on DM Content\n",
    "# e) I agree to pay the amount through cheque\n",
    "\n",
    "leads = leads.drop(['Magazine', 'Receive More Updates About Our Courses', 'Update me on Supply Chain Content', \n",
    "                          'Get updates on DM Content', 'I agree to pay the amount through cheque'], axis=1)"
   ]
  },
  {
   "cell_type": "code",
   "execution_count": 32,
   "id": "4ea91bdf",
   "metadata": {},
   "outputs": [
    {
     "data": {
      "text/plain": [
       "(9240, 20)"
      ]
     },
     "execution_count": 32,
     "metadata": {},
     "output_type": "execute_result"
    }
   ],
   "source": [
    "leads.shape"
   ]
  },
  {
   "cell_type": "markdown",
   "id": "0afa1880",
   "metadata": {},
   "source": [
    "# OUTLIER TREATMENT"
   ]
  },
  {
   "cell_type": "code",
   "execution_count": 33,
   "id": "bece6e16",
   "metadata": {},
   "outputs": [
    {
     "data": {
      "text/html": [
       "<div>\n",
       "<style scoped>\n",
       "    .dataframe tbody tr th:only-of-type {\n",
       "        vertical-align: middle;\n",
       "    }\n",
       "\n",
       "    .dataframe tbody tr th {\n",
       "        vertical-align: top;\n",
       "    }\n",
       "\n",
       "    .dataframe thead th {\n",
       "        text-align: right;\n",
       "    }\n",
       "</style>\n",
       "<table border=\"1\" class=\"dataframe\">\n",
       "  <thead>\n",
       "    <tr style=\"text-align: right;\">\n",
       "      <th></th>\n",
       "      <th>Lead Number</th>\n",
       "      <th>Converted</th>\n",
       "      <th>TotalVisits</th>\n",
       "      <th>Total Time Spent on Website</th>\n",
       "      <th>Page Views Per Visit</th>\n",
       "    </tr>\n",
       "  </thead>\n",
       "  <tbody>\n",
       "    <tr>\n",
       "      <th>count</th>\n",
       "      <td>9240.000000</td>\n",
       "      <td>9240.000000</td>\n",
       "      <td>9240.000000</td>\n",
       "      <td>9240.000000</td>\n",
       "      <td>9240.000000</td>\n",
       "    </tr>\n",
       "    <tr>\n",
       "      <th>mean</th>\n",
       "      <td>617188.435606</td>\n",
       "      <td>0.385390</td>\n",
       "      <td>3.438636</td>\n",
       "      <td>487.698268</td>\n",
       "      <td>2.357440</td>\n",
       "    </tr>\n",
       "    <tr>\n",
       "      <th>std</th>\n",
       "      <td>23405.995698</td>\n",
       "      <td>0.486714</td>\n",
       "      <td>4.819024</td>\n",
       "      <td>548.021466</td>\n",
       "      <td>2.145781</td>\n",
       "    </tr>\n",
       "    <tr>\n",
       "      <th>min</th>\n",
       "      <td>579533.000000</td>\n",
       "      <td>0.000000</td>\n",
       "      <td>0.000000</td>\n",
       "      <td>0.000000</td>\n",
       "      <td>0.000000</td>\n",
       "    </tr>\n",
       "    <tr>\n",
       "      <th>25%</th>\n",
       "      <td>596484.500000</td>\n",
       "      <td>0.000000</td>\n",
       "      <td>1.000000</td>\n",
       "      <td>12.000000</td>\n",
       "      <td>1.000000</td>\n",
       "    </tr>\n",
       "    <tr>\n",
       "      <th>50%</th>\n",
       "      <td>615479.000000</td>\n",
       "      <td>0.000000</td>\n",
       "      <td>3.000000</td>\n",
       "      <td>248.000000</td>\n",
       "      <td>2.000000</td>\n",
       "    </tr>\n",
       "    <tr>\n",
       "      <th>75%</th>\n",
       "      <td>637387.250000</td>\n",
       "      <td>1.000000</td>\n",
       "      <td>5.000000</td>\n",
       "      <td>936.000000</td>\n",
       "      <td>3.000000</td>\n",
       "    </tr>\n",
       "    <tr>\n",
       "      <th>90%</th>\n",
       "      <td>650506.100000</td>\n",
       "      <td>1.000000</td>\n",
       "      <td>7.000000</td>\n",
       "      <td>1380.000000</td>\n",
       "      <td>5.000000</td>\n",
       "    </tr>\n",
       "    <tr>\n",
       "      <th>95%</th>\n",
       "      <td>655404.050000</td>\n",
       "      <td>1.000000</td>\n",
       "      <td>10.000000</td>\n",
       "      <td>1562.000000</td>\n",
       "      <td>6.000000</td>\n",
       "    </tr>\n",
       "    <tr>\n",
       "      <th>99%</th>\n",
       "      <td>659592.980000</td>\n",
       "      <td>1.000000</td>\n",
       "      <td>17.000000</td>\n",
       "      <td>1840.610000</td>\n",
       "      <td>9.000000</td>\n",
       "    </tr>\n",
       "    <tr>\n",
       "      <th>max</th>\n",
       "      <td>660737.000000</td>\n",
       "      <td>1.000000</td>\n",
       "      <td>251.000000</td>\n",
       "      <td>2272.000000</td>\n",
       "      <td>55.000000</td>\n",
       "    </tr>\n",
       "  </tbody>\n",
       "</table>\n",
       "</div>"
      ],
      "text/plain": [
       "         Lead Number    Converted  TotalVisits  Total Time Spent on Website  \\\n",
       "count    9240.000000  9240.000000  9240.000000                  9240.000000   \n",
       "mean   617188.435606     0.385390     3.438636                   487.698268   \n",
       "std     23405.995698     0.486714     4.819024                   548.021466   \n",
       "min    579533.000000     0.000000     0.000000                     0.000000   \n",
       "25%    596484.500000     0.000000     1.000000                    12.000000   \n",
       "50%    615479.000000     0.000000     3.000000                   248.000000   \n",
       "75%    637387.250000     1.000000     5.000000                   936.000000   \n",
       "90%    650506.100000     1.000000     7.000000                  1380.000000   \n",
       "95%    655404.050000     1.000000    10.000000                  1562.000000   \n",
       "99%    659592.980000     1.000000    17.000000                  1840.610000   \n",
       "max    660737.000000     1.000000   251.000000                  2272.000000   \n",
       "\n",
       "       Page Views Per Visit  \n",
       "count           9240.000000  \n",
       "mean               2.357440  \n",
       "std                2.145781  \n",
       "min                0.000000  \n",
       "25%                1.000000  \n",
       "50%                2.000000  \n",
       "75%                3.000000  \n",
       "90%                5.000000  \n",
       "95%                6.000000  \n",
       "99%                9.000000  \n",
       "max               55.000000  "
      ]
     },
     "execution_count": 33,
     "metadata": {},
     "output_type": "execute_result"
    }
   ],
   "source": [
    "# Checking outliers at 25%,50%,75%,90%,95% and above\n",
    "leads.describe(percentiles=[.25,.5,.75,.90,.95,.99])"
   ]
  },
  {
   "cell_type": "code",
   "execution_count": 34,
   "id": "bdd2f1ad",
   "metadata": {},
   "outputs": [
    {
     "data": {
      "image/png": "[encoded data removed]",
      "text/plain": [
       "<Figure size 2000x2500 with 3 Axes>"
      ]
     },
     "metadata": {},
     "output_type": "display_data"
    }
   ],
   "source": [
    "# Checking the outliers in all the numeric columns\n",
    "\n",
    "plt.figure(figsize=(20, 25))\n",
    "plt.subplot(4,3,1)\n",
    "sns.boxplot(y = 'TotalVisits', palette='Set3', data = leads)\n",
    "plt.subplot(4,3,2)\n",
    "sns.boxplot(y = 'Total Time Spent on Website', palette='Set3', data = leads)\n",
    "plt.subplot(4,3,3)\n",
    "sns.boxplot(y = 'Page Views Per Visit', palette='Set3', data = leads)\n",
    "plt.show()"
   ]
  },
  {
   "cell_type": "code",
   "execution_count": 35,
   "id": "c620a0b7",
   "metadata": {},
   "outputs": [
    {
     "data": {
      "text/plain": [
       "count    9141.000000\n",
       "mean        3.179740\n",
       "std         2.913631\n",
       "min         0.000000\n",
       "25%         1.000000\n",
       "50%         3.000000\n",
       "75%         5.000000\n",
       "90%         7.000000\n",
       "95%         9.000000\n",
       "99%        13.000000\n",
       "max        16.000000\n",
       "Name: TotalVisits, dtype: float64"
      ]
     },
     "execution_count": 35,
     "metadata": {},
     "output_type": "execute_result"
    }
   ],
   "source": [
    "# Removing values beyond 99% for Total Visits\n",
    "\n",
    "nn_quartile_total_visits = leads['TotalVisits'].quantile(0.99)\n",
    "leads = leads[leads[\"TotalVisits\"] < nn_quartile_total_visits]\n",
    "leads[\"TotalVisits\"].describe(percentiles=[.25,.5,.75,.90,.95,.99])"
   ]
  },
  {
   "cell_type": "code",
   "execution_count": 36,
   "id": "37f60668",
   "metadata": {},
   "outputs": [
    {
     "data": {
      "text/html": [
       "<div>\n",
       "<style scoped>\n",
       "    .dataframe tbody tr th:only-of-type {\n",
       "        vertical-align: middle;\n",
       "    }\n",
       "\n",
       "    .dataframe tbody tr th {\n",
       "        vertical-align: top;\n",
       "    }\n",
       "\n",
       "    .dataframe thead th {\n",
       "        text-align: right;\n",
       "    }\n",
       "</style>\n",
       "<table border=\"1\" class=\"dataframe\">\n",
       "  <thead>\n",
       "    <tr style=\"text-align: right;\">\n",
       "      <th></th>\n",
       "      <th>Lead Number</th>\n",
       "      <th>Converted</th>\n",
       "      <th>TotalVisits</th>\n",
       "      <th>Total Time Spent on Website</th>\n",
       "      <th>Page Views Per Visit</th>\n",
       "    </tr>\n",
       "  </thead>\n",
       "  <tbody>\n",
       "    <tr>\n",
       "      <th>count</th>\n",
       "      <td>9141.00000</td>\n",
       "      <td>9141.000000</td>\n",
       "      <td>9141.000000</td>\n",
       "      <td>9141.000000</td>\n",
       "      <td>9141.000000</td>\n",
       "    </tr>\n",
       "    <tr>\n",
       "      <th>mean</th>\n",
       "      <td>617233.45192</td>\n",
       "      <td>0.385406</td>\n",
       "      <td>3.179740</td>\n",
       "      <td>486.074609</td>\n",
       "      <td>2.329506</td>\n",
       "    </tr>\n",
       "    <tr>\n",
       "      <th>std</th>\n",
       "      <td>23413.72193</td>\n",
       "      <td>0.486718</td>\n",
       "      <td>2.913631</td>\n",
       "      <td>547.856302</td>\n",
       "      <td>2.046673</td>\n",
       "    </tr>\n",
       "    <tr>\n",
       "      <th>min</th>\n",
       "      <td>579533.00000</td>\n",
       "      <td>0.000000</td>\n",
       "      <td>0.000000</td>\n",
       "      <td>0.000000</td>\n",
       "      <td>0.000000</td>\n",
       "    </tr>\n",
       "    <tr>\n",
       "      <th>25%</th>\n",
       "      <td>596519.00000</td>\n",
       "      <td>0.000000</td>\n",
       "      <td>1.000000</td>\n",
       "      <td>10.000000</td>\n",
       "      <td>1.000000</td>\n",
       "    </tr>\n",
       "    <tr>\n",
       "      <th>50%</th>\n",
       "      <td>615563.00000</td>\n",
       "      <td>0.000000</td>\n",
       "      <td>3.000000</td>\n",
       "      <td>247.000000</td>\n",
       "      <td>2.000000</td>\n",
       "    </tr>\n",
       "    <tr>\n",
       "      <th>75%</th>\n",
       "      <td>637414.00000</td>\n",
       "      <td>1.000000</td>\n",
       "      <td>5.000000</td>\n",
       "      <td>933.000000</td>\n",
       "      <td>3.000000</td>\n",
       "    </tr>\n",
       "    <tr>\n",
       "      <th>90%</th>\n",
       "      <td>650514.00000</td>\n",
       "      <td>1.000000</td>\n",
       "      <td>7.000000</td>\n",
       "      <td>1379.000000</td>\n",
       "      <td>5.000000</td>\n",
       "    </tr>\n",
       "    <tr>\n",
       "      <th>95%</th>\n",
       "      <td>655406.00000</td>\n",
       "      <td>1.000000</td>\n",
       "      <td>9.000000</td>\n",
       "      <td>1561.000000</td>\n",
       "      <td>6.000000</td>\n",
       "    </tr>\n",
       "    <tr>\n",
       "      <th>99%</th>\n",
       "      <td>659592.80000</td>\n",
       "      <td>1.000000</td>\n",
       "      <td>13.000000</td>\n",
       "      <td>1839.600000</td>\n",
       "      <td>9.000000</td>\n",
       "    </tr>\n",
       "    <tr>\n",
       "      <th>max</th>\n",
       "      <td>660737.00000</td>\n",
       "      <td>1.000000</td>\n",
       "      <td>16.000000</td>\n",
       "      <td>2272.000000</td>\n",
       "      <td>16.000000</td>\n",
       "    </tr>\n",
       "  </tbody>\n",
       "</table>\n",
       "</div>"
      ],
      "text/plain": [
       "        Lead Number    Converted  TotalVisits  Total Time Spent on Website  \\\n",
       "count    9141.00000  9141.000000  9141.000000                  9141.000000   \n",
       "mean   617233.45192     0.385406     3.179740                   486.074609   \n",
       "std     23413.72193     0.486718     2.913631                   547.856302   \n",
       "min    579533.00000     0.000000     0.000000                     0.000000   \n",
       "25%    596519.00000     0.000000     1.000000                    10.000000   \n",
       "50%    615563.00000     0.000000     3.000000                   247.000000   \n",
       "75%    637414.00000     1.000000     5.000000                   933.000000   \n",
       "90%    650514.00000     1.000000     7.000000                  1379.000000   \n",
       "95%    655406.00000     1.000000     9.000000                  1561.000000   \n",
       "99%    659592.80000     1.000000    13.000000                  1839.600000   \n",
       "max    660737.00000     1.000000    16.000000                  2272.000000   \n",
       "\n",
       "       Page Views Per Visit  \n",
       "count           9141.000000  \n",
       "mean               2.329506  \n",
       "std                2.046673  \n",
       "min                0.000000  \n",
       "25%                1.000000  \n",
       "50%                2.000000  \n",
       "75%                3.000000  \n",
       "90%                5.000000  \n",
       "95%                6.000000  \n",
       "99%                9.000000  \n",
       "max               16.000000  "
      ]
     },
     "execution_count": 36,
     "metadata": {},
     "output_type": "execute_result"
    }
   ],
   "source": [
    "# Checking outliers at 25%,50%,75%,90%,95% and above\n",
    "\n",
    "leads.describe(percentiles=[.25,.5,.75,.90,.95,.99])"
   ]
  },
  {
   "cell_type": "code",
   "execution_count": 37,
   "id": "43f0a4d7",
   "metadata": {},
   "outputs": [
    {
     "data": {
      "text/plain": [
       "count    9029.000000\n",
       "mean        2.226383\n",
       "std         1.823395\n",
       "min         0.000000\n",
       "25%         1.000000\n",
       "50%         2.000000\n",
       "75%         3.000000\n",
       "90%         5.000000\n",
       "95%         6.000000\n",
       "99%         7.000000\n",
       "max         8.000000\n",
       "Name: Page Views Per Visit, dtype: float64"
      ]
     },
     "execution_count": 37,
     "metadata": {},
     "output_type": "execute_result"
    }
   ],
   "source": [
    "# Removing values beyond 99% for page Views Per Visit\n",
    "\n",
    "nn_quartile_page_visits = leads['Page Views Per Visit'].quantile(0.99)\n",
    "leads = leads[leads[\"Page Views Per Visit\"] < nn_quartile_page_visits]\n",
    "leads[\"Page Views Per Visit\"].describe(percentiles=[.25,.5,.75,.90,.95,.99])"
   ]
  },
  {
   "cell_type": "code",
   "execution_count": 38,
   "id": "539659ce",
   "metadata": {},
   "outputs": [
    {
     "data": {
      "text/html": [
       "<div>\n",
       "<style scoped>\n",
       "    .dataframe tbody tr th:only-of-type {\n",
       "        vertical-align: middle;\n",
       "    }\n",
       "\n",
       "    .dataframe tbody tr th {\n",
       "        vertical-align: top;\n",
       "    }\n",
       "\n",
       "    .dataframe thead th {\n",
       "        text-align: right;\n",
       "    }\n",
       "</style>\n",
       "<table border=\"1\" class=\"dataframe\">\n",
       "  <thead>\n",
       "    <tr style=\"text-align: right;\">\n",
       "      <th></th>\n",
       "      <th>Lead Number</th>\n",
       "      <th>Converted</th>\n",
       "      <th>TotalVisits</th>\n",
       "      <th>Total Time Spent on Website</th>\n",
       "      <th>Page Views Per Visit</th>\n",
       "    </tr>\n",
       "  </thead>\n",
       "  <tbody>\n",
       "    <tr>\n",
       "      <th>count</th>\n",
       "      <td>9029.000000</td>\n",
       "      <td>9029.000000</td>\n",
       "      <td>9029.000000</td>\n",
       "      <td>9029.000000</td>\n",
       "      <td>9029.000000</td>\n",
       "    </tr>\n",
       "    <tr>\n",
       "      <th>mean</th>\n",
       "      <td>617223.248422</td>\n",
       "      <td>0.385092</td>\n",
       "      <td>3.087164</td>\n",
       "      <td>483.133016</td>\n",
       "      <td>2.226383</td>\n",
       "    </tr>\n",
       "    <tr>\n",
       "      <th>std</th>\n",
       "      <td>23372.383121</td>\n",
       "      <td>0.486644</td>\n",
       "      <td>2.801244</td>\n",
       "      <td>547.420675</td>\n",
       "      <td>1.823395</td>\n",
       "    </tr>\n",
       "    <tr>\n",
       "      <th>min</th>\n",
       "      <td>579533.000000</td>\n",
       "      <td>0.000000</td>\n",
       "      <td>0.000000</td>\n",
       "      <td>0.000000</td>\n",
       "      <td>0.000000</td>\n",
       "    </tr>\n",
       "    <tr>\n",
       "      <th>25%</th>\n",
       "      <td>596530.000000</td>\n",
       "      <td>0.000000</td>\n",
       "      <td>1.000000</td>\n",
       "      <td>7.000000</td>\n",
       "      <td>1.000000</td>\n",
       "    </tr>\n",
       "    <tr>\n",
       "      <th>50%</th>\n",
       "      <td>615645.000000</td>\n",
       "      <td>0.000000</td>\n",
       "      <td>3.000000</td>\n",
       "      <td>245.000000</td>\n",
       "      <td>2.000000</td>\n",
       "    </tr>\n",
       "    <tr>\n",
       "      <th>75%</th>\n",
       "      <td>637360.000000</td>\n",
       "      <td>1.000000</td>\n",
       "      <td>4.000000</td>\n",
       "      <td>929.000000</td>\n",
       "      <td>3.000000</td>\n",
       "    </tr>\n",
       "    <tr>\n",
       "      <th>90%</th>\n",
       "      <td>650463.200000</td>\n",
       "      <td>1.000000</td>\n",
       "      <td>7.000000</td>\n",
       "      <td>1378.000000</td>\n",
       "      <td>5.000000</td>\n",
       "    </tr>\n",
       "    <tr>\n",
       "      <th>95%</th>\n",
       "      <td>655351.600000</td>\n",
       "      <td>1.000000</td>\n",
       "      <td>8.000000</td>\n",
       "      <td>1558.000000</td>\n",
       "      <td>6.000000</td>\n",
       "    </tr>\n",
       "    <tr>\n",
       "      <th>99%</th>\n",
       "      <td>659577.800000</td>\n",
       "      <td>1.000000</td>\n",
       "      <td>13.000000</td>\n",
       "      <td>1839.720000</td>\n",
       "      <td>7.000000</td>\n",
       "    </tr>\n",
       "    <tr>\n",
       "      <th>max</th>\n",
       "      <td>660737.000000</td>\n",
       "      <td>1.000000</td>\n",
       "      <td>16.000000</td>\n",
       "      <td>2272.000000</td>\n",
       "      <td>8.000000</td>\n",
       "    </tr>\n",
       "  </tbody>\n",
       "</table>\n",
       "</div>"
      ],
      "text/plain": [
       "         Lead Number    Converted  TotalVisits  Total Time Spent on Website  \\\n",
       "count    9029.000000  9029.000000  9029.000000                  9029.000000   \n",
       "mean   617223.248422     0.385092     3.087164                   483.133016   \n",
       "std     23372.383121     0.486644     2.801244                   547.420675   \n",
       "min    579533.000000     0.000000     0.000000                     0.000000   \n",
       "25%    596530.000000     0.000000     1.000000                     7.000000   \n",
       "50%    615645.000000     0.000000     3.000000                   245.000000   \n",
       "75%    637360.000000     1.000000     4.000000                   929.000000   \n",
       "90%    650463.200000     1.000000     7.000000                  1378.000000   \n",
       "95%    655351.600000     1.000000     8.000000                  1558.000000   \n",
       "99%    659577.800000     1.000000    13.000000                  1839.720000   \n",
       "max    660737.000000     1.000000    16.000000                  2272.000000   \n",
       "\n",
       "       Page Views Per Visit  \n",
       "count           9029.000000  \n",
       "mean               2.226383  \n",
       "std                1.823395  \n",
       "min                0.000000  \n",
       "25%                1.000000  \n",
       "50%                2.000000  \n",
       "75%                3.000000  \n",
       "90%                5.000000  \n",
       "95%                6.000000  \n",
       "99%                7.000000  \n",
       "max                8.000000  "
      ]
     },
     "execution_count": 38,
     "metadata": {},
     "output_type": "execute_result"
    }
   ],
   "source": [
    "# Checking outliers at 25%,50%,75%,90%,95% and above\n",
    "leads.describe(percentiles=[.25,.5,.75,.90,.95,.99])"
   ]
  },
  {
   "cell_type": "code",
   "execution_count": 39,
   "id": "6b041eea",
   "metadata": {},
   "outputs": [
    {
     "name": "stdout",
     "output_type": "stream",
     "text": [
      "97.72\n"
     ]
    }
   ],
   "source": [
    "# Determine the percentage of data retained\n",
    "\n",
    "num_data = round(100*(len(leads)/9240),2)\n",
    "print(num_data)"
   ]
  },
  {
   "cell_type": "markdown",
   "id": "ef1063d7",
   "metadata": {},
   "source": [
    "At this point, the data has been cleaned and around 98% of data has been retained"
   ]
  },
  {
   "cell_type": "markdown",
   "id": "1f585bbe",
   "metadata": {},
   "source": [
    "# STEP 3-DATA ANALYSIS"
   ]
  }
 ],
 "metadata": {
  "kernelspec": {
   "display_name": "Python 3 (ipykernel)",
   "language": "python",
   "name": "python3"
  },
  "language_info": {
   "codemirror_mode": {
    "name": "ipython",
    "version": 3
   },
   "file_extension": ".py",
   "mimetype": "text/x-python",
   "name": "python",
   "nbconvert_exporter": "python",
   "pygments_lexer": "ipython3",
   "version": "3.11.4"
  }
 },
 "nbformat": 4,
 "nbformat_minor": 5
}
